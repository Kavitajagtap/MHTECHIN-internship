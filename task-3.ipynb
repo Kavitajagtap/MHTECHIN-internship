{
 "cells": [
  {
   "cell_type": "code",
   "execution_count": 1,
   "id": "eec2bc34",
   "metadata": {},
   "outputs": [
    {
     "name": "stdout",
     "output_type": "stream",
     "text": [
      "<mysql.connector.connection_cext.CMySQLConnection object at 0x00000245A1F4DA30>\n"
     ]
    }
   ],
   "source": [
    "import mysql.connector\n",
    "db = mysql.connector.connect(host =\"localhost\",user=\"root\",passwd=\"IT@10\")#database=\"employee\"\n",
    "print(db)"
   ]
  },
  {
   "cell_type": "code",
   "execution_count": 2,
   "id": "571ce863",
   "metadata": {},
   "outputs": [
    {
     "name": "stdout",
     "output_type": "stream",
     "text": [
      "Connection estblished Successfully\n"
     ]
    }
   ],
   "source": [
    "# chech connection established or not\n",
    "\n",
    "if (db):\n",
    "    print(\"Connection estblished Successfully\")\n",
    "else:\n",
    "    print(\"Connection filed\")"
   ]
  },
  {
   "cell_type": "code",
   "execution_count": 3,
   "id": "016144d8",
   "metadata": {},
   "outputs": [],
   "source": [
    "curs = db.cursor()"
   ]
  },
  {
   "cell_type": "code",
   "execution_count": 5,
   "id": "f67c4d20",
   "metadata": {},
   "outputs": [
    {
     "name": "stdout",
     "output_type": "stream",
     "text": [
      "('information_schema',)\n",
      "('mysql',)\n",
      "('performance_schema',)\n",
      "('sys',)\n"
     ]
    }
   ],
   "source": [
    "# chech database exist or not\n",
    "curs.execute(\"Show databases\")\n",
    "for i in curs:\n",
    "    print(i)"
   ]
  },
  {
   "cell_type": "code",
   "execution_count": 6,
   "id": "24a4e4c1",
   "metadata": {},
   "outputs": [],
   "source": [
    "# create database\n",
    "curs.execute(\"create database Task_3\")"
   ]
  },
  {
   "cell_type": "code",
   "execution_count": 7,
   "id": "db3d6c1c",
   "metadata": {},
   "outputs": [],
   "source": [
    "# select database for performing operations\n",
    "curs.execute(\"use Task_3\")"
   ]
  },
  {
   "cell_type": "code",
   "execution_count": 8,
   "id": "31e15ea3",
   "metadata": {},
   "outputs": [],
   "source": [
    "# 1. creation of the table\n",
    "curs.execute(\"create table employee(eid int(10), name varchar(20), sal int(10))\")"
   ]
  },
  {
   "cell_type": "code",
   "execution_count": 9,
   "id": "61236a33",
   "metadata": {},
   "outputs": [
    {
     "name": "stdout",
     "output_type": "stream",
     "text": [
      "('eid', b'int', 'YES', '', None, '')\n",
      "('name', b'varchar(20)', 'YES', '', None, '')\n",
      "('sal', b'int', 'YES', '', None, '')\n"
     ]
    }
   ],
   "source": [
    "curs.execute(\"describe employee\")\n",
    "for i in curs:\n",
    "    print(i)"
   ]
  },
  {
   "cell_type": "code",
   "execution_count": 10,
   "id": "6a70cfaa",
   "metadata": {},
   "outputs": [
    {
     "name": "stdout",
     "output_type": "stream",
     "text": [
      "('employee',)\n"
     ]
    }
   ],
   "source": [
    "curs.execute(\"show tables\")\n",
    "for i in curs:\n",
    "    print(i)"
   ]
  },
  {
   "cell_type": "code",
   "execution_count": 11,
   "id": "20b1522e",
   "metadata": {},
   "outputs": [],
   "source": [
    "# 2.insertion\n",
    "\n",
    "emp = \"Insert into employee(eid,name,sal)values(%s,%s,%s)\"\n",
    "emp1 = [(1,\"ABC\",20000),(2,\"PQR\",50000),(3,\"TSP\",80000),]\n",
    "curs.executemany(emp,emp1)\n",
    "db.commit()"
   ]
  },
  {
   "cell_type": "code",
   "execution_count": 12,
   "id": "4f5500ff",
   "metadata": {},
   "outputs": [
    {
     "name": "stdout",
     "output_type": "stream",
     "text": [
      "(1, 'ABC', 20000)\n",
      "(2, 'PQR', 50000)\n",
      "(3, 'TSP', 80000)\n"
     ]
    }
   ],
   "source": [
    "# 3.read \n",
    "  #1.fetchone(), 2.fetchall()\n",
    "    \n",
    "curs.execute(\"select * from employee\")\n",
    "res = curs.fetchall()\n",
    "for i in res:\n",
    "    print(i)"
   ]
  },
  {
   "cell_type": "code",
   "execution_count": 13,
   "id": "30547e2a",
   "metadata": {},
   "outputs": [],
   "source": [
    "# 4.update\n",
    "sql = \"update employee set sal = 100000 where eid = 2\"\n",
    "curs.execute(sql)\n",
    "db.commit()"
   ]
  },
  {
   "cell_type": "code",
   "execution_count": 14,
   "id": "b48d75f5",
   "metadata": {},
   "outputs": [],
   "source": [
    "# 5.delete\n",
    "sql = \"delete from employee where eid = 2\";\n",
    "curs.execute(sql)\n",
    "db.commit()"
   ]
  },
  {
   "cell_type": "code",
   "execution_count": 15,
   "id": "dfaf00fa",
   "metadata": {},
   "outputs": [],
   "source": [
    "# 6.delete the database\n",
    "curs.execute(\"drop database task_3\")\n",
    "for i in curs:\n",
    "    print(i)"
   ]
  },
  {
   "cell_type": "code",
   "execution_count": null,
   "id": "ee0df74b",
   "metadata": {},
   "outputs": [],
   "source": []
  }
 ],
 "metadata": {
  "kernelspec": {
   "display_name": "Python 3 (ipykernel)",
   "language": "python",
   "name": "python3"
  },
  "language_info": {
   "codemirror_mode": {
    "name": "ipython",
    "version": 3
   },
   "file_extension": ".py",
   "mimetype": "text/x-python",
   "name": "python",
   "nbconvert_exporter": "python",
   "pygments_lexer": "ipython3",
   "version": "3.9.7"
  }
 },
 "nbformat": 4,
 "nbformat_minor": 5
}
